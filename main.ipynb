{
 "cells": [
  {
   "cell_type": "code",
   "execution_count": 106,
   "metadata": {},
   "outputs": [],
   "source": [
    "import yfinance as yf\n",
    "import pandas as pandas\n",
    "from datetime import datetime, timedelta\n",
    "import numpy as numpy\n",
    "from scipy.optimize import minimize"
   ]
  },
  {
   "cell_type": "code",
   "execution_count": 107,
   "metadata": {},
   "outputs": [],
   "source": [
    "tickers = ['SPY', 'GLD','BND','QQQ', 'VTI', 'NVDA','AMZN']\n",
    "end_date = datetime.today()\n",
    "start_date = end_date - timedelta(days=10*365)\n"
   ]
  },
  {
   "cell_type": "code",
   "execution_count": 108,
   "metadata": {},
   "outputs": [
    {
     "name": "stderr",
     "output_type": "stream",
     "text": [
      "[*********************100%***********************]  7 of 7 completed\n"
     ]
    }
   ],
   "source": [
    "adj_close = pandas.DataFrame()\n",
    "\n",
    "data = yf.download(tickers, start=start_date, end=end_date, auto_adjust=True) # Using adjusted close to include dividends and stock splits in model"
   ]
  },
  {
   "cell_type": "code",
   "execution_count": 109,
   "metadata": {},
   "outputs": [],
   "source": [
    "adj_close = data['Close']"
   ]
  },
  {
   "cell_type": "code",
   "execution_count": 110,
   "metadata": {},
   "outputs": [
    {
     "data": {
      "text/html": [
       "<div>\n",
       "<style scoped>\n",
       "    .dataframe tbody tr th:only-of-type {\n",
       "        vertical-align: middle;\n",
       "    }\n",
       "\n",
       "    .dataframe tbody tr th {\n",
       "        vertical-align: top;\n",
       "    }\n",
       "\n",
       "    .dataframe thead th {\n",
       "        text-align: right;\n",
       "    }\n",
       "</style>\n",
       "<table border=\"1\" class=\"dataframe\">\n",
       "  <thead>\n",
       "    <tr style=\"text-align: right;\">\n",
       "      <th>Ticker</th>\n",
       "      <th>AMZN</th>\n",
       "      <th>BND</th>\n",
       "      <th>GLD</th>\n",
       "      <th>NVDA</th>\n",
       "      <th>QQQ</th>\n",
       "      <th>SPY</th>\n",
       "      <th>VTI</th>\n",
       "    </tr>\n",
       "    <tr>\n",
       "      <th>Date</th>\n",
       "      <th></th>\n",
       "      <th></th>\n",
       "      <th></th>\n",
       "      <th></th>\n",
       "      <th></th>\n",
       "      <th></th>\n",
       "      <th></th>\n",
       "    </tr>\n",
       "  </thead>\n",
       "  <tbody>\n",
       "    <tr>\n",
       "      <th>2015-01-05</th>\n",
       "      <td>15.109500</td>\n",
       "      <td>62.959351</td>\n",
       "      <td>115.800003</td>\n",
       "      <td>0.474983</td>\n",
       "      <td>93.867722</td>\n",
       "      <td>169.475876</td>\n",
       "      <td>87.635681</td>\n",
       "    </tr>\n",
       "    <tr>\n",
       "      <th>2015-01-06</th>\n",
       "      <td>14.764500</td>\n",
       "      <td>63.141644</td>\n",
       "      <td>117.120003</td>\n",
       "      <td>0.460582</td>\n",
       "      <td>92.609123</td>\n",
       "      <td>167.879654</td>\n",
       "      <td>86.777046</td>\n",
       "    </tr>\n",
       "    <tr>\n",
       "      <th>2015-01-07</th>\n",
       "      <td>14.921000</td>\n",
       "      <td>63.179638</td>\n",
       "      <td>116.430000</td>\n",
       "      <td>0.459382</td>\n",
       "      <td>93.802933</td>\n",
       "      <td>169.971603</td>\n",
       "      <td>87.812485</td>\n",
       "    </tr>\n",
       "    <tr>\n",
       "      <th>2015-01-08</th>\n",
       "      <td>15.023000</td>\n",
       "      <td>63.080879</td>\n",
       "      <td>115.940002</td>\n",
       "      <td>0.476663</td>\n",
       "      <td>95.598305</td>\n",
       "      <td>172.987747</td>\n",
       "      <td>89.361496</td>\n",
       "    </tr>\n",
       "    <tr>\n",
       "      <th>2015-01-09</th>\n",
       "      <td>14.846500</td>\n",
       "      <td>63.187206</td>\n",
       "      <td>117.260002</td>\n",
       "      <td>0.478583</td>\n",
       "      <td>94.969002</td>\n",
       "      <td>171.601486</td>\n",
       "      <td>88.620628</td>\n",
       "    </tr>\n",
       "    <tr>\n",
       "      <th>...</th>\n",
       "      <td>...</td>\n",
       "      <td>...</td>\n",
       "      <td>...</td>\n",
       "      <td>...</td>\n",
       "      <td>...</td>\n",
       "      <td>...</td>\n",
       "      <td>...</td>\n",
       "    </tr>\n",
       "    <tr>\n",
       "      <th>2024-12-24</th>\n",
       "      <td>229.050003</td>\n",
       "      <td>71.849998</td>\n",
       "      <td>241.440002</td>\n",
       "      <td>140.220001</td>\n",
       "      <td>529.960022</td>\n",
       "      <td>601.299988</td>\n",
       "      <td>297.119995</td>\n",
       "    </tr>\n",
       "    <tr>\n",
       "      <th>2024-12-26</th>\n",
       "      <td>227.050003</td>\n",
       "      <td>71.900002</td>\n",
       "      <td>243.070007</td>\n",
       "      <td>139.929993</td>\n",
       "      <td>529.599976</td>\n",
       "      <td>601.340027</td>\n",
       "      <td>297.290009</td>\n",
       "    </tr>\n",
       "    <tr>\n",
       "      <th>2024-12-27</th>\n",
       "      <td>223.750000</td>\n",
       "      <td>71.750000</td>\n",
       "      <td>241.399994</td>\n",
       "      <td>137.009995</td>\n",
       "      <td>522.559998</td>\n",
       "      <td>595.010010</td>\n",
       "      <td>294.070007</td>\n",
       "    </tr>\n",
       "    <tr>\n",
       "      <th>2024-12-30</th>\n",
       "      <td>221.300003</td>\n",
       "      <td>72.029999</td>\n",
       "      <td>240.630005</td>\n",
       "      <td>137.490005</td>\n",
       "      <td>515.609985</td>\n",
       "      <td>588.219971</td>\n",
       "      <td>290.820007</td>\n",
       "    </tr>\n",
       "    <tr>\n",
       "      <th>2024-12-31</th>\n",
       "      <td>219.389999</td>\n",
       "      <td>71.910004</td>\n",
       "      <td>242.130005</td>\n",
       "      <td>134.289993</td>\n",
       "      <td>511.230011</td>\n",
       "      <td>586.080017</td>\n",
       "      <td>289.809998</td>\n",
       "    </tr>\n",
       "  </tbody>\n",
       "</table>\n",
       "<p>2515 rows × 7 columns</p>\n",
       "</div>"
      ],
      "text/plain": [
       "Ticker            AMZN        BND         GLD        NVDA         QQQ  \\\n",
       "Date                                                                    \n",
       "2015-01-05   15.109500  62.959351  115.800003    0.474983   93.867722   \n",
       "2015-01-06   14.764500  63.141644  117.120003    0.460582   92.609123   \n",
       "2015-01-07   14.921000  63.179638  116.430000    0.459382   93.802933   \n",
       "2015-01-08   15.023000  63.080879  115.940002    0.476663   95.598305   \n",
       "2015-01-09   14.846500  63.187206  117.260002    0.478583   94.969002   \n",
       "...                ...        ...         ...         ...         ...   \n",
       "2024-12-24  229.050003  71.849998  241.440002  140.220001  529.960022   \n",
       "2024-12-26  227.050003  71.900002  243.070007  139.929993  529.599976   \n",
       "2024-12-27  223.750000  71.750000  241.399994  137.009995  522.559998   \n",
       "2024-12-30  221.300003  72.029999  240.630005  137.490005  515.609985   \n",
       "2024-12-31  219.389999  71.910004  242.130005  134.289993  511.230011   \n",
       "\n",
       "Ticker             SPY         VTI  \n",
       "Date                                \n",
       "2015-01-05  169.475876   87.635681  \n",
       "2015-01-06  167.879654   86.777046  \n",
       "2015-01-07  169.971603   87.812485  \n",
       "2015-01-08  172.987747   89.361496  \n",
       "2015-01-09  171.601486   88.620628  \n",
       "...                ...         ...  \n",
       "2024-12-24  601.299988  297.119995  \n",
       "2024-12-26  601.340027  297.290009  \n",
       "2024-12-27  595.010010  294.070007  \n",
       "2024-12-30  588.219971  290.820007  \n",
       "2024-12-31  586.080017  289.809998  \n",
       "\n",
       "[2515 rows x 7 columns]"
      ]
     },
     "execution_count": 110,
     "metadata": {},
     "output_type": "execute_result"
    }
   ],
   "source": [
    "adj_close"
   ]
  },
  {
   "cell_type": "code",
   "execution_count": 111,
   "metadata": {},
   "outputs": [
    {
     "data": {
      "text/html": [
       "<div>\n",
       "<style scoped>\n",
       "    .dataframe tbody tr th:only-of-type {\n",
       "        vertical-align: middle;\n",
       "    }\n",
       "\n",
       "    .dataframe tbody tr th {\n",
       "        vertical-align: top;\n",
       "    }\n",
       "\n",
       "    .dataframe thead th {\n",
       "        text-align: right;\n",
       "    }\n",
       "</style>\n",
       "<table border=\"1\" class=\"dataframe\">\n",
       "  <thead>\n",
       "    <tr style=\"text-align: right;\">\n",
       "      <th>Ticker</th>\n",
       "      <th>AMZN</th>\n",
       "      <th>BND</th>\n",
       "      <th>GLD</th>\n",
       "      <th>NVDA</th>\n",
       "      <th>QQQ</th>\n",
       "      <th>SPY</th>\n",
       "      <th>VTI</th>\n",
       "    </tr>\n",
       "    <tr>\n",
       "      <th>Date</th>\n",
       "      <th></th>\n",
       "      <th></th>\n",
       "      <th></th>\n",
       "      <th></th>\n",
       "      <th></th>\n",
       "      <th></th>\n",
       "      <th></th>\n",
       "    </tr>\n",
       "  </thead>\n",
       "  <tbody>\n",
       "    <tr>\n",
       "      <th>2015-01-05</th>\n",
       "      <td>NaN</td>\n",
       "      <td>NaN</td>\n",
       "      <td>NaN</td>\n",
       "      <td>NaN</td>\n",
       "      <td>NaN</td>\n",
       "      <td>NaN</td>\n",
       "      <td>NaN</td>\n",
       "    </tr>\n",
       "    <tr>\n",
       "      <th>2015-01-06</th>\n",
       "      <td>-0.023098</td>\n",
       "      <td>0.002891</td>\n",
       "      <td>0.011334</td>\n",
       "      <td>-0.030787</td>\n",
       "      <td>-0.013499</td>\n",
       "      <td>-0.009463</td>\n",
       "      <td>-0.009846</td>\n",
       "    </tr>\n",
       "    <tr>\n",
       "      <th>2015-01-07</th>\n",
       "      <td>0.010544</td>\n",
       "      <td>0.000602</td>\n",
       "      <td>-0.005909</td>\n",
       "      <td>-0.002609</td>\n",
       "      <td>0.012808</td>\n",
       "      <td>0.012384</td>\n",
       "      <td>0.011862</td>\n",
       "    </tr>\n",
       "    <tr>\n",
       "      <th>2015-01-08</th>\n",
       "      <td>0.006813</td>\n",
       "      <td>-0.001564</td>\n",
       "      <td>-0.004217</td>\n",
       "      <td>0.036927</td>\n",
       "      <td>0.018959</td>\n",
       "      <td>0.017589</td>\n",
       "      <td>0.017486</td>\n",
       "    </tr>\n",
       "    <tr>\n",
       "      <th>2015-01-09</th>\n",
       "      <td>-0.011818</td>\n",
       "      <td>0.001684</td>\n",
       "      <td>0.011321</td>\n",
       "      <td>0.004020</td>\n",
       "      <td>-0.006605</td>\n",
       "      <td>-0.008046</td>\n",
       "      <td>-0.008325</td>\n",
       "    </tr>\n",
       "    <tr>\n",
       "      <th>...</th>\n",
       "      <td>...</td>\n",
       "      <td>...</td>\n",
       "      <td>...</td>\n",
       "      <td>...</td>\n",
       "      <td>...</td>\n",
       "      <td>...</td>\n",
       "      <td>...</td>\n",
       "    </tr>\n",
       "    <tr>\n",
       "      <th>2024-12-24</th>\n",
       "      <td>0.017573</td>\n",
       "      <td>0.001435</td>\n",
       "      <td>0.001990</td>\n",
       "      <td>0.003930</td>\n",
       "      <td>0.013469</td>\n",
       "      <td>0.011054</td>\n",
       "      <td>0.010556</td>\n",
       "    </tr>\n",
       "    <tr>\n",
       "      <th>2024-12-26</th>\n",
       "      <td>-0.008770</td>\n",
       "      <td>0.000696</td>\n",
       "      <td>0.006728</td>\n",
       "      <td>-0.002070</td>\n",
       "      <td>-0.000680</td>\n",
       "      <td>0.000067</td>\n",
       "      <td>0.000572</td>\n",
       "    </tr>\n",
       "    <tr>\n",
       "      <th>2024-12-27</th>\n",
       "      <td>-0.014641</td>\n",
       "      <td>-0.002088</td>\n",
       "      <td>-0.006894</td>\n",
       "      <td>-0.021088</td>\n",
       "      <td>-0.013382</td>\n",
       "      <td>-0.010582</td>\n",
       "      <td>-0.010890</td>\n",
       "    </tr>\n",
       "    <tr>\n",
       "      <th>2024-12-30</th>\n",
       "      <td>-0.011010</td>\n",
       "      <td>0.003895</td>\n",
       "      <td>-0.003195</td>\n",
       "      <td>0.003497</td>\n",
       "      <td>-0.013389</td>\n",
       "      <td>-0.011477</td>\n",
       "      <td>-0.011113</td>\n",
       "    </tr>\n",
       "    <tr>\n",
       "      <th>2024-12-31</th>\n",
       "      <td>-0.008668</td>\n",
       "      <td>-0.001667</td>\n",
       "      <td>0.006214</td>\n",
       "      <td>-0.023550</td>\n",
       "      <td>-0.008531</td>\n",
       "      <td>-0.003645</td>\n",
       "      <td>-0.003479</td>\n",
       "    </tr>\n",
       "  </tbody>\n",
       "</table>\n",
       "<p>2515 rows × 7 columns</p>\n",
       "</div>"
      ],
      "text/plain": [
       "Ticker          AMZN       BND       GLD      NVDA       QQQ       SPY  \\\n",
       "Date                                                                     \n",
       "2015-01-05       NaN       NaN       NaN       NaN       NaN       NaN   \n",
       "2015-01-06 -0.023098  0.002891  0.011334 -0.030787 -0.013499 -0.009463   \n",
       "2015-01-07  0.010544  0.000602 -0.005909 -0.002609  0.012808  0.012384   \n",
       "2015-01-08  0.006813 -0.001564 -0.004217  0.036927  0.018959  0.017589   \n",
       "2015-01-09 -0.011818  0.001684  0.011321  0.004020 -0.006605 -0.008046   \n",
       "...              ...       ...       ...       ...       ...       ...   \n",
       "2024-12-24  0.017573  0.001435  0.001990  0.003930  0.013469  0.011054   \n",
       "2024-12-26 -0.008770  0.000696  0.006728 -0.002070 -0.000680  0.000067   \n",
       "2024-12-27 -0.014641 -0.002088 -0.006894 -0.021088 -0.013382 -0.010582   \n",
       "2024-12-30 -0.011010  0.003895 -0.003195  0.003497 -0.013389 -0.011477   \n",
       "2024-12-31 -0.008668 -0.001667  0.006214 -0.023550 -0.008531 -0.003645   \n",
       "\n",
       "Ticker           VTI  \n",
       "Date                  \n",
       "2015-01-05       NaN  \n",
       "2015-01-06 -0.009846  \n",
       "2015-01-07  0.011862  \n",
       "2015-01-08  0.017486  \n",
       "2015-01-09 -0.008325  \n",
       "...              ...  \n",
       "2024-12-24  0.010556  \n",
       "2024-12-26  0.000572  \n",
       "2024-12-27 -0.010890  \n",
       "2024-12-30 -0.011113  \n",
       "2024-12-31 -0.003479  \n",
       "\n",
       "[2515 rows x 7 columns]"
      ]
     },
     "execution_count": 111,
     "metadata": {},
     "output_type": "execute_result"
    }
   ],
   "source": [
    "  # Calculating lognormal returns for each ticker\n",
    "log_returns = numpy.log(adj_close/adj_close.shift(1))\n",
    "log_returns"
   ]
  },
  {
   "cell_type": "code",
   "execution_count": 112,
   "metadata": {},
   "outputs": [
    {
     "data": {
      "text/plain": [
       "Ticker\n",
       "AMZN    1\n",
       "BND     1\n",
       "GLD     1\n",
       "NVDA    1\n",
       "QQQ     1\n",
       "SPY     1\n",
       "VTI     1\n",
       "dtype: int64"
      ]
     },
     "execution_count": 112,
     "metadata": {},
     "output_type": "execute_result"
    }
   ],
   "source": [
    "log_returns.isna().sum()"
   ]
  },
  {
   "cell_type": "code",
   "execution_count": 113,
   "metadata": {},
   "outputs": [],
   "source": [
    "log_returns = log_returns.dropna()"
   ]
  },
  {
   "cell_type": "code",
   "execution_count": 114,
   "metadata": {},
   "outputs": [
    {
     "data": {
      "text/plain": [
       "Ticker\n",
       "AMZN    0\n",
       "BND     0\n",
       "GLD     0\n",
       "NVDA    0\n",
       "QQQ     0\n",
       "SPY     0\n",
       "VTI     0\n",
       "dtype: int64"
      ]
     },
     "execution_count": 114,
     "metadata": {},
     "output_type": "execute_result"
    }
   ],
   "source": [
    "log_returns.isna().sum()"
   ]
  },
  {
   "cell_type": "markdown",
   "metadata": {},
   "source": [
    "Calculating Covariance Matrix"
   ]
  },
  {
   "cell_type": "code",
   "execution_count": 115,
   "metadata": {},
   "outputs": [],
   "source": [
    "cov_matrix = log_returns.cov()*252"
   ]
  },
  {
   "cell_type": "code",
   "execution_count": 116,
   "metadata": {},
   "outputs": [
    {
     "data": {
      "text/html": [
       "<div>\n",
       "<style scoped>\n",
       "    .dataframe tbody tr th:only-of-type {\n",
       "        vertical-align: middle;\n",
       "    }\n",
       "\n",
       "    .dataframe tbody tr th {\n",
       "        vertical-align: top;\n",
       "    }\n",
       "\n",
       "    .dataframe thead th {\n",
       "        text-align: right;\n",
       "    }\n",
       "</style>\n",
       "<table border=\"1\" class=\"dataframe\">\n",
       "  <thead>\n",
       "    <tr style=\"text-align: right;\">\n",
       "      <th>Ticker</th>\n",
       "      <th>AMZN</th>\n",
       "      <th>BND</th>\n",
       "      <th>GLD</th>\n",
       "      <th>NVDA</th>\n",
       "      <th>QQQ</th>\n",
       "      <th>SPY</th>\n",
       "      <th>VTI</th>\n",
       "    </tr>\n",
       "    <tr>\n",
       "      <th>Ticker</th>\n",
       "      <th></th>\n",
       "      <th></th>\n",
       "      <th></th>\n",
       "      <th></th>\n",
       "      <th></th>\n",
       "      <th></th>\n",
       "      <th></th>\n",
       "    </tr>\n",
       "  </thead>\n",
       "  <tbody>\n",
       "    <tr>\n",
       "      <th>AMZN</th>\n",
       "      <td>0.106659</td>\n",
       "      <td>0.001893</td>\n",
       "      <td>0.002304</td>\n",
       "      <td>0.081624</td>\n",
       "      <td>0.053955</td>\n",
       "      <td>0.036412</td>\n",
       "      <td>0.036735</td>\n",
       "    </tr>\n",
       "    <tr>\n",
       "      <th>BND</th>\n",
       "      <td>0.001893</td>\n",
       "      <td>0.002977</td>\n",
       "      <td>0.002798</td>\n",
       "      <td>0.001897</td>\n",
       "      <td>0.001384</td>\n",
       "      <td>0.001065</td>\n",
       "      <td>0.001156</td>\n",
       "    </tr>\n",
       "    <tr>\n",
       "      <th>GLD</th>\n",
       "      <td>0.002304</td>\n",
       "      <td>0.002798</td>\n",
       "      <td>0.019939</td>\n",
       "      <td>0.001485</td>\n",
       "      <td>0.001773</td>\n",
       "      <td>0.001205</td>\n",
       "      <td>0.001312</td>\n",
       "    </tr>\n",
       "    <tr>\n",
       "      <th>NVDA</th>\n",
       "      <td>0.081624</td>\n",
       "      <td>0.001897</td>\n",
       "      <td>0.001485</td>\n",
       "      <td>0.232580</td>\n",
       "      <td>0.077887</td>\n",
       "      <td>0.054757</td>\n",
       "      <td>0.055904</td>\n",
       "    </tr>\n",
       "    <tr>\n",
       "      <th>QQQ</th>\n",
       "      <td>0.053955</td>\n",
       "      <td>0.001384</td>\n",
       "      <td>0.001773</td>\n",
       "      <td>0.077887</td>\n",
       "      <td>0.047857</td>\n",
       "      <td>0.035937</td>\n",
       "      <td>0.036483</td>\n",
       "    </tr>\n",
       "    <tr>\n",
       "      <th>SPY</th>\n",
       "      <td>0.036412</td>\n",
       "      <td>0.001065</td>\n",
       "      <td>0.001205</td>\n",
       "      <td>0.054757</td>\n",
       "      <td>0.035937</td>\n",
       "      <td>0.031233</td>\n",
       "      <td>0.031763</td>\n",
       "    </tr>\n",
       "    <tr>\n",
       "      <th>VTI</th>\n",
       "      <td>0.036735</td>\n",
       "      <td>0.001156</td>\n",
       "      <td>0.001312</td>\n",
       "      <td>0.055904</td>\n",
       "      <td>0.036483</td>\n",
       "      <td>0.031763</td>\n",
       "      <td>0.032567</td>\n",
       "    </tr>\n",
       "  </tbody>\n",
       "</table>\n",
       "</div>"
      ],
      "text/plain": [
       "Ticker      AMZN       BND       GLD      NVDA       QQQ       SPY       VTI\n",
       "Ticker                                                                      \n",
       "AMZN    0.106659  0.001893  0.002304  0.081624  0.053955  0.036412  0.036735\n",
       "BND     0.001893  0.002977  0.002798  0.001897  0.001384  0.001065  0.001156\n",
       "GLD     0.002304  0.002798  0.019939  0.001485  0.001773  0.001205  0.001312\n",
       "NVDA    0.081624  0.001897  0.001485  0.232580  0.077887  0.054757  0.055904\n",
       "QQQ     0.053955  0.001384  0.001773  0.077887  0.047857  0.035937  0.036483\n",
       "SPY     0.036412  0.001065  0.001205  0.054757  0.035937  0.031233  0.031763\n",
       "VTI     0.036735  0.001156  0.001312  0.055904  0.036483  0.031763  0.032567"
      ]
     },
     "execution_count": 116,
     "metadata": {},
     "output_type": "execute_result"
    }
   ],
   "source": [
    "cov_matrix"
   ]
  },
  {
   "cell_type": "markdown",
   "metadata": {},
   "source": [
    "Calculating portfolio standard deviation"
   ]
  },
  {
   "cell_type": "code",
   "execution_count": 117,
   "metadata": {},
   "outputs": [],
   "source": [
    "def standard_deviation(weights, cov_matrix):\n",
    "    variance = weights.T @ cov_matrix @ weights\n",
    "    return numpy.sqrt(variance)"
   ]
  },
  {
   "cell_type": "markdown",
   "metadata": {},
   "source": [
    "Calculating expected return"
   ]
  },
  {
   "cell_type": "code",
   "execution_count": 118,
   "metadata": {},
   "outputs": [],
   "source": [
    "def expected_return(weights, log_returns):\n",
    "    return numpy.sum(weights*log_returns.mean())*252"
   ]
  },
  {
   "cell_type": "markdown",
   "metadata": {},
   "source": [
    "Calculating sharpe ratio"
   ]
  },
  {
   "cell_type": "code",
   "execution_count": 119,
   "metadata": {},
   "outputs": [],
   "source": [
    "def sharpe_ratio(weights, log_returns, cov_matrix, risk_free_rate):\n",
    "    ret = expected_return(weights, log_returns)\n",
    "    sd = standard_deviation(weights, cov_matrix)\n",
    "    return (ret - risk_free_rate) / sd"
   ]
  },
  {
   "cell_type": "markdown",
   "metadata": {},
   "source": [
    "Set the risk free rate"
   ]
  },
  {
   "cell_type": "code",
   "execution_count": 120,
   "metadata": {},
   "outputs": [
    {
     "data": {
      "text/plain": [
       "0.0436"
      ]
     },
     "execution_count": 120,
     "metadata": {},
     "output_type": "execute_result"
    }
   ],
   "source": [
    "from fredapi import Fred\n",
    "fred = Fred(api_key='107ae07a2fae8ae3ab8903c087fcf0f4')\n",
    "ten_year_treasury = fred.get_series('GS10')/100\n",
    "\n",
    "risk_free_rate = ten_year_treasury.iloc[-1]\n",
    "risk_free_rate"
   ]
  },
  {
   "cell_type": "markdown",
   "metadata": {},
   "source": [
    "Minimising negative sharpe ratio (esssentially maximising sharpe ratio)"
   ]
  },
  {
   "cell_type": "code",
   "execution_count": 121,
   "metadata": {},
   "outputs": [],
   "source": [
    "def negative_sharpe(weights, log_returns, cov_matrix, risk_free_rate):\n",
    "    return -sharpe_ratio(weights, log_returns, cov_matrix, risk_free_rate)"
   ]
  },
  {
   "cell_type": "markdown",
   "metadata": {},
   "source": [
    "Setting constraints and bounds"
   ]
  },
  {
   "cell_type": "code",
   "execution_count": 122,
   "metadata": {},
   "outputs": [],
   "source": [
    "constraints = ({'type': 'eq', 'fun': lambda x: numpy.sum(x) - 1})\n",
    "bounds = [(0,0.4) for i in range(len(tickers))]"
   ]
  },
  {
   "cell_type": "markdown",
   "metadata": {},
   "source": [
    "Setting inital weights"
   ]
  },
  {
   "cell_type": "code",
   "execution_count": 123,
   "metadata": {},
   "outputs": [
    {
     "data": {
      "text/plain": [
       "array([0.14285714, 0.14285714, 0.14285714, 0.14285714, 0.14285714,\n",
       "       0.14285714, 0.14285714])"
      ]
     },
     "execution_count": 123,
     "metadata": {},
     "output_type": "execute_result"
    }
   ],
   "source": [
    "initial_weights = numpy.array([1/len(tickers)]*len(tickers))\n",
    "initial_weights"
   ]
  },
  {
   "cell_type": "markdown",
   "metadata": {},
   "source": [
    "Optimising weights to maximise sharpe ratio"
   ]
  },
  {
   "cell_type": "code",
   "execution_count": 124,
   "metadata": {},
   "outputs": [],
   "source": [
    "optimised_sharpe = minimize(negative_sharpe, initial_weights, args=(log_returns, cov_matrix, risk_free_rate), method='SLSQP', bounds=bounds, constraints=constraints)"
   ]
  },
  {
   "cell_type": "code",
   "execution_count": 125,
   "metadata": {},
   "outputs": [],
   "source": [
    "optimal_weights = optimised_sharpe.x"
   ]
  },
  {
   "cell_type": "markdown",
   "metadata": {},
   "source": [
    "Visualising optimal portfolio"
   ]
  },
  {
   "cell_type": "code",
   "execution_count": 126,
   "metadata": {},
   "outputs": [
    {
     "name": "stdout",
     "output_type": "stream",
     "text": [
      "Optimal Portfolio Return: 30.95%\n",
      "Optimal Portfolio Standard Deviation: 24.20%\n",
      "Optimal Portfolio Sharpe Ratio: 1.10\n"
     ]
    },
    {
     "data": {
      "image/png": "[encoded data removed]",
      "text/plain": [
       "<Figure size 1000x600 with 1 Axes>"
      ]
     },
     "metadata": {},
     "output_type": "display_data"
    }
   ],
   "source": [
    "import matplotlib.pyplot as plt\n",
    "\n",
    "# Calculate portfolio analytics\n",
    "optimal_return = expected_return(optimal_weights, log_returns)\n",
    "optimal_std_dev = standard_deviation(optimal_weights, cov_matrix)\n",
    "optimal_sharpe_ratio = sharpe_ratio(optimal_weights, log_returns, cov_matrix, risk_free_rate)\n",
    "\n",
    "print(f\"Optimal Portfolio Return: {optimal_return:.2%}\")\n",
    "print(f\"Optimal Portfolio Standard Deviation: {optimal_std_dev:.2%}\")\n",
    "print(f\"Optimal Portfolio Sharpe Ratio: {optimal_sharpe_ratio:.2f}\")\n",
    "\n",
    "# Plot the final portfolio\n",
    "plt.figure(figsize=(10, 6))\n",
    "plt.bar(tickers, optimal_weights, color='blue')\n",
    "plt.xlabel('Tickers')\n",
    "plt.ylabel('Weights')\n",
    "plt.title('Optimal Portfolio Weights')\n",
    "plt.show()"
   ]
  },
  {
   "cell_type": "code",
   "execution_count": null,
   "metadata": {},
   "outputs": [],
   "source": []
  }
 ],
 "metadata": {
  "kernelspec": {
   "display_name": "base",
   "language": "python",
   "name": "python3"
  },
  "language_info": {
   "codemirror_mode": {
    "name": "ipython",
    "version": 3
   },
   "file_extension": ".py",
   "mimetype": "text/x-python",
   "name": "python",
   "nbconvert_exporter": "python",
   "pygments_lexer": "ipython3",
   "version": "3.9.13"
  }
 },
 "nbformat": 4,
 "nbformat_minor": 2
}
